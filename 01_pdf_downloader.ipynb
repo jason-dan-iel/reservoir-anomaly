{
 "cells": [
  {
   "cell_type": "code",
   "execution_count": null,
   "metadata": {},
   "outputs": [],
   "source": [
    "from selenium import webdriver\n",
    "from selenium.webdriver.common.by import By\n",
    "from selenium.webdriver.support.ui import WebDriverWait\n",
    "from selenium.webdriver.support import expected_conditions as EC\n",
    "import os\n",
    "\n",
    "# Setup WebDriver\n",
    "driver = webdriver.Chrome()\n",
    "base_url = \"https://cwc.gov.in/reservoirs-storage-bulletin\"\n",
    "driver.get(base_url)\n",
    "\n",
    "download_links = []  # List to store download links\n",
    "\n",
    "for page_number in range(0, 20):\n",
    "    page_url = f\"{base_url}?page={page_number}\"\n",
    "    driver.get(page_url)\n",
    "\n",
    "    # Wait for download buttons (increased timeout)\n",
    "    download_buttons = WebDriverWait(driver, 20).until(\n",
    "        EC.presence_of_all_elements_located((By.XPATH, \"//a[@class='local' and contains(@href, '/download?token=')]\"))\n",
    "    )\n",
    "\n",
    "    # Extract and store download links\n",
    "    for button in download_buttons:\n",
    "        download_links.append(button.get_attribute('href'))\n",
    "\n",
    "driver.quit()\n",
    "\n",
    "# (Optional) Print the collected links\n",
    "for link in download_links:\n",
    "    print(link)\n",
    "\n",
    "# Save the links to a file (optional)\n",
    "with open(\"download_links.txt\", \"w\") as f:\n",
    "    for link in download_links:\n",
    "        f.write(link + \"\\n\")\n"
   ]
  },
  {
   "cell_type": "code",
   "execution_count": null,
   "metadata": {},
   "outputs": [],
   "source": [
    "download_links = []\n",
    "with open(\"download_links.txt\",\"r\") as file:\n",
    "    for line in file:\n",
    "        download_links.append(line)\n",
    "len(download_links)"
   ]
  },
  {
   "cell_type": "code",
   "execution_count": null,
   "metadata": {},
   "outputs": [],
   "source": [
    "import webbrowser\n",
    "for link in download_links:\n",
    "    webbrowser.open_new_tab(link)"
   ]
  },
  {
   "cell_type": "markdown",
   "metadata": {},
   "source": [
    "10 download files not downlading "
   ]
  }
 ],
 "metadata": {
  "kernelspec": {
   "display_name": "Python 3 (ipykernel)",
   "language": "python",
   "name": "python3"
  },
  "language_info": {
   "codemirror_mode": {
    "name": "ipython",
    "version": 3
   },
   "file_extension": ".py",
   "mimetype": "text/x-python",
   "name": "python",
   "nbconvert_exporter": "python",
   "pygments_lexer": "ipython3",
   "version": "3.8.19"
  }
 },
 "nbformat": 4,
 "nbformat_minor": 4
}
